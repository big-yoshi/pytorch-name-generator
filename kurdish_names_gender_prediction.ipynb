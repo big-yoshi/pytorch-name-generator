{
  "nbformat": 4,
  "nbformat_minor": 0,
  "metadata": {
    "colab": {
      "name": "kurdish-names-gender-prediction.ipynb",
      "provenance": []
    },
    "kernelspec": {
      "name": "python3",
      "display_name": "Python 3"
    }
  },
  "cells": [
    {
      "cell_type": "code",
      "metadata": {
        "id": "hWjASprkOdJh",
        "colab_type": "code",
        "colab": {}
      },
      "source": [
        "girls = \"\"\"\n",
        "ADAN \tADAR \tAGRÎN \tAHENG \tAJDA\n",
        "AJÎN \tAJNA \tAJWAN \tALA \tALAL\n",
        "ALÎN \tALÛS \tAMAN \tARA \tARAN\n",
        "ARAZ \tARDA \tARÎMAN \tARÎN \tARIYA\n",
        "ARJEN \tASÊ \tASKA \tASKÊ \tASNA\n",
        "ASTÎ \tASTAN \tAVAN \tAVBÎN \tAVÎN\n",
        "AVSÎN \tAVZÊL \tAVZEN \tAWAZ \tAWÎNG\n",
        "AWIRA \tAXÎN \tAXÎN \tAZADE \tAZÎN\n",
        "AZÛ \tBADA \tBAHOZ \tBANESÎN \tBARAN\n",
        "BARÊZ \tBARÛVE \tBAWAN \tBAWESEN \tBAWESÎN\n",
        "BAZÊ \tBAZÎN \tBEDEW \tBEDEWCAN \tBEFRAW\n",
        "BEFRÎ \tBEFRÎN \tBEGÎ \tBEHAR \tBEHÊZ\n",
        "BEJÎN \tBÊJÎN \tBEJNA \tBEJNÊ \tBELALÛK\n",
        "BELAR \tBELÊN \tBELÎBAN \tBÊLÎM \tBÊMAL\n",
        "BENAW \tBÊNAW \tBÊNAZ \tBENDAN \tBENDEN\n",
        "BENDEWA \tBENDEWAN \tBENEWS \tBENGÎN \tBERAFÎN\n",
        "BERAW \tBERBANG \tBERÇEM \tBERDIL \tBEREM\n",
        "BERFENDE \tBERFÎN \tBERHEM \tBERÎ \tBÊRÎ\n",
        "BÊRÎCAN \tBERÎN \tBÊRÎWAN \tBERÎXAN \tBERKEN\n",
        "BERMA \tBERMAL \tBERMALÎ \tBERSÎN \tBERWAR\n",
        "BERZÊ \tBESÊ \tBESNA \tBÊWÎJAN \tBEWRAN\n",
        "BEYAN \tBEYBÛN \tBEYSOS \tBEZMA \tBIHAR\n",
        "BIHEST \tBIJARDE \tBIJEW \tBIJWÊN \tBIJYA\n",
        "BÎNAHÎ \tBINEVS \tBIRCA \tBIRWA \tBISKUJ\n",
        "BIWAR \tCAN \tCANAN \tCANÊ \tÇAVGES\n",
        "ÇEMAN \tCÎHAN \tÇÎMEN \tÇINAR \tÇIRÛSK\n",
        "CIWANA \tCIWANCAN \tCIWANNAZ \tDABAN \tDARÎN\n",
        "DAXAZ \tDELAL \tDEMGUL \tDERMAN \tDERSIMA\n",
        "DESMAL \tDEVER \tDEWKEN \tDÎANA \tDICLE\n",
        "DÎDAR \tDIHOK \tDILA \tDILAN \tDÎLAN\n",
        "DILARA \tDILAWAZ \tDILBA \tDILBAZ \tDILBER\n",
        "DÎLBER \tDILCAN \tDILKANÎ \tDILMEST \tDILNAZ\n",
        "DILNÎGAR \tDILOCAN \tDÎLOK \tDILORÎN \tDILOVAN\n",
        "DILPAK \tDILSOZ \tDILSA \tDILSÊN \tDILVAN\n",
        "DILVÎN \tDILXOS \tDILXWAZ \tDÎMEN \tDÎWAN\n",
        "DIYAR \tEDGAR \tEFSAN \tELEGEZ \tELIND\n",
        "ENWA \tERDELAN \tERDEM \tERNEWAZ \tERZEN\n",
        "ERZO \tESMER \tESMERCAN \tESMERXAN \tESMÎXAN\n",
        "ESRÎN \tESTÊR \tETÛN \tEVÎN \tEVSER\n",
        "EWAZ \tEWÎN \tEWRÎN \tEXTER \tEZCAN\n",
        "EZÎN \tEZMA \tEZO \tFELEK \tFERASÎN\n",
        "FERMAN \tFERZÊ \tFERZÎNE \tFÎDAN \tFÎLYA\n",
        "FÎRYA \tFIRYAL \tGAZÎN \tGELAVÊJ \tGELAZ\n",
        "GERDAN \tGERDANA \tGERDANGAZ \tGERDEW \tGERDÎN\n",
        "GERDÛN \tGESA \tGESÎN \tGEVER \tGEWHER\n",
        "GEWRÊ \tGEZÎNE \tGEZÎZA \tGILÊNE \tGILYA\n",
        "GILYAZ \tGIRAW \tGIYABENT \tGIZING \tGUHDAR\n",
        "GUL \tGULAL \tGULAN \tGULAV \tGULAVÎ\n",
        "GULAW \tGULBAHAR \tGULBANÛ \tGULBARAN \tGULBARÎN\n",
        "GULBAWAN \tGULBAX \tGULBEDEN \tGULBEHAR \tGULBEJN\n",
        "GULBENT \tGULBERÎN \tGULBEROJ \tGULBESER \tGULBEST\n",
        "GULBÎN \tGULCAN \tGULÇÎN \tGULDA \tGULDAR\n",
        "GULÊ \tGULFERÎ \tGULFIROS \tGULÎN \tGULÎSA\n",
        "GULISTAN \tGULÎSTAN \tGULÎZAR \tGULÎZER \tGULNAV\n",
        "GULNAZ \tGULPERÎ \tGULRENG \tGULROJ \tGULSÎNEM\n",
        "GULSA \tGULSEN \tGULSÎN \tGULSIRÎN \tGULVEDA\n",
        "GULXATÛN \tGULXOS \tGULZAR \tGUVEND \tHANA\n",
        "HAVÎN \tHAWDEM \tHAWDIL \tHAWJÎN \tHAWNAZ\n",
        "HAWNIYAZ \tHEDAR \tHEÎV \tHEJÎN \tHELAT\n",
        "HELBEST \tHÊLÎN \tHÊMIN \tHERMÎN \tHETAW\n",
        "HÊVÎ \tHEVJÎN \tHEWRAZ \tHEWSA \tHILBÎN\n",
        "HILBÎN \tHINAR \tHÎVAN \tHUZAN \tJALE\n",
        "JÊLA \tJÊLÎ \tJÊLYAN \tJÎMAN \tJÎN\n",
        "JÎNEWER \tJIWAN \tJIYAN \tJÎYAN \tKAJA\n",
        "KAJÎN \tKANÎ \tKARÎN \tKEJAL \tKEJAW\n",
        "KEJÊ \tKESER \tKESREWAN \tKEVÎ \tKEWER\n",
        "KEYNA \tKEZÎBAN \tKEZÎZER \tKILDA \tKINÊ\n",
        "KOÇER \tKUBAR \tKUÇER \tKULÎLK \tKURDISTAN\n",
        "LALE \tLALEBEND \tLALES \tLAWÎN \tLEMAN\n",
        "LERZAN \tLEWKEN \tLEZÎN \tLORÎCAN \tLORÎN\n",
        "MAHABAD \tMALÎN \tMEDYA \tMEMYAN \tMENDÊ\n",
        "MERCAN \tMÊRDÎN \tMERÎVAN \tMESTAN \tMEYFROS\n",
        "MÎDYA \tMÎNA \tMIRCAN \tMIZGÎN \tNALÎN\n",
        "NARÎN \tNAVBIHAR \tNAWNAZ \tNAZA \tNAZA\n",
        "NAZDAR \tNAZÊ \tNAZENÎN \tNAZGUL \tNAZIK\n",
        "NAZNAZ \tNEFEL \tNEMAL \tNÊRGIZ \tNERMÎN\n",
        "NESRÎN \tNEWÎN \tNEWROZ \tNÎGAAR \tNILUFER\n",
        "NÎNA \tNÎRUJ \tNÎSTÎMAN \tNÎYAN \tNOVÎN\n",
        "NÛCAN \tNÛJEN \tNUJÎN \tNUROJ \tNUSA\n",
        "NÛSÎN \tPAKDIL \tPEÎMAN \tPEJNA \tPELEK\n",
        "PELSÎN \tPERGUL \tPERÎ \tPERÎNAZ \tPERÎSAN\n",
        "PERÎXAN \tPÊRÛZ \tPERWÎN \tPEYAM \tPIRJÎN\n",
        "PIRNAZ \tPÎROZ \tQUMRÎ \tREBEN \tRÊHAN\n",
        "REJNÊ \tRENGÎN \tREVEND \tREVÎN \tREWAN\n",
        "REWSEN \tREXSAN \tRÊZÎN \tRIHAN \tROBAR\n",
        "ROJBÎN \tROJDA \tROJGUL \tROJÎN \tRONA\n",
        "RONAHÎ \tROZA \tROZERÎN \tRÛGES \tRÛKEN\n",
        "RÛNA \tRUNAHÎ \tRUNDIK \tSARA \tSAZAN\n",
        "SEÎRAN \tSEMÎAN \tSERA \tSERAN \tSERAV\n",
        "SERGUL \tSERPÎL \tSERYAL \tSEWZA \tSEYRAN\n",
        "SÎBEL \tSÎBER \tSÎLAV \tSILÎVA \tSÎMAL\n",
        "SINDIS \tSINDIS \tSÎNEM \tSÎSÊ \tSÎTAV\n",
        "SÎTAV \tSITÎ \tSÎWAN \tSORGUL \tSOSIN\n",
        "SPÊDA \tSPEHÎ \tSADAN \tSAGUL \tSANA\n",
        "SANA \tSANAZ \tSANESÎN \tSEHLA \tSEHNAZ\n",
        "SEHRÎVAN \tSENGAL \tSENGÎN \tSERMÎN \tSEVÎN\n",
        "SEWRAN \tSEYDA \tSÎLAN \tSIRÎN \tSULKER\n",
        "SURES \tSTÊRK \tSUZ \tSUZAN \tTAJEV\n",
        "TARA \tTÊLÎCAN \tTÛJÎN \tVEJAN \tVEJÎN\n",
        "VEMAN \tVÎAN \tVÎN \tVIYAN \tWAJA\n",
        "XACÊ \tXANEM \tXANIM \tXATÛN \tXELAT\n",
        "XEMSÎN \tXEYAL \tXEZAL \tYARDIL \tYARGUL\n",
        "YASEMÎN \tYEKBER \tYEKCAN \tYEKMAL \tYEKSER\n",
        "YEKTA \tZARA \tZARÎN \tZÊBAZÊ \tZELAL\n",
        "ZENDE \tZERA \tZÊRÊ \tZERÎ \tZERÎN\n",
        "ZERYA \tZERZAN \tZEVÎN \tZÎLAN \tZÎN\n",
        "ZÎV \tZÎVAN \tZOZAN \n",
        "\"\"\"\n",
        "\n",
        "boys = \"\"\"\n",
        "AFRAN \tAFRÎN \tAGAH \tAGIR \tAGIRÎ\n",
        "AJAR \tAJENG \tAKAM \tAKRÊ \tALAN\n",
        "ALAZ \tALWAN \tAMANC \tAMED \tAMÊDÎ\n",
        "AMOJGAR \tAMÛD \tARAN \tARARAT \tARAS\n",
        "ARAZ \tARDAN \tARDELAN \tARDÎ \tARÊZ\n",
        "ARHAT \tARÎ \tARIYAN \tARMANC \tARTÛS\n",
        "ARÛN \tARÛNG \tASAN \tASIN \tASO\n",
        "ASOS \tASID \tASINA \tASTI \tASTÎ\n",
        "ASTÛ \tAVA \tAVAN \tAVDAR \tAVDEL\n",
        "AVDÎ \tAVÎ \tAVSÎN \tAVZÊL \tAWAR \t\n",
        "AWARE \tAWDEL \tAWDIL \tAWEDAN \tAWIR\n",
        "AXA \tAZA \tAZAD \tAZÎ \tAZWER\n",
        "BABÎR \tBABÛR \tBAÇÎN \tBAD \tBADIL\n",
        "BADÎN \tBADO \tBAGER \tBAGERD \tBAGIR\n",
        "BAGOK \tBAHA \tBAHO \tBAHOZ \tBAJEN\n",
        "BAKÛR \tBALA \tBALABAN \tBALBER \tBALDAR\n",
        "BALÎ \tBALÎXAN \tBANGÎN \tBANÎ \tBAPÎR\n",
        "BARAM \tBARAN \tBARAW \tBARES \tBARGIRAN\n",
        "BARÎ \tBARNAS \tBARSAZ \tBARZAN \tBASAM\n",
        "BASIN \tBAWAN \tBAWER \tBAWERD \tBAXEWAN\n",
        "BAYIZ \tBAZ \tBAZAN \tBAZÎ \tBAZÎT\n",
        "BAZIYAN \tBAZO \tBAZYAN \tBÊBAK \tBÊBAS\n",
        "BÊCAN \tBÊDAD \tBÊDAR \tBÊDENG \tBEDLÎS\n",
        "BEHAT \tBÊHAWTA \tBEHDÎN \tBEHÊZ \tBEHÎ\n",
        "BEHMEN \tBEHOS \tBEHRAM \tBEHREMEND \tBEHWAN\n",
        "BÊJEN \tBÊJEWAN \tBEJNDAR \tBEJNO \tBÊKES\n",
        "BÊLAN \tBELÊN \tBELENGAZ \tBÊMAL \tBEMO\n",
        "BÊNAV \tBÊNAW \tBENDEWAR \tBENDÎ \tBENDO\n",
        "BÊNEWA \tBENG \tBENGÎN \tBERBEST \tBEREVAN\n",
        "BERÊZ \tBERFAN \tBERHEM \tBERHEV \tBERHEVDAR\n",
        "BERKAR \tBERKEN \tBERNAS \tBERPA \tBERPAL\n",
        "BÊRTÎ \tBERWAN \tBERWAR \tBERXO \tBERXWEDAN\n",
        "BERZ \tBERZAN \tBERZENC \tBERZEND \tBERZO\n",
        "BESAM \tBÊSARAN \tBESAT \tBESTÎ \tBÊWAR\n",
        "BEXTEWAR \tBEXTIYAR \tBEYANÎ \tBEYAR \tBEYAR\n",
        "BIJAR \tBIJÛN \tBIJWÊN \tBINAR \tBINAV\n",
        "BINYAT \tBIRADOST \tBÎRDAR \tBÎRHAT \tBIRÎNDAR\n",
        "BIRÛSK \tBIRYAR \tBIRZO \tBIYAN \tBIZAN\n",
        "BOTAN \tBOZO \tBÛBAN \tCANGO \tCANO\n",
        "CEGER \tCEJNÎ \tÇEKAN \tÇEKDAR \tÇEKO\n",
        "ÇELEK \tCEMBELÎ \tÇÊNER \tCENGÎ \tCENGO\n",
        "ÇETO \tÇETO \tCIGERXÎN \tCÎGERXWÎN \tCÎHAN\n",
        "ÇILDAR \tÇIRA \tÇIRÛSK \tCIWAN \tÇIYA\n",
        "COBAN \tCOMERD \tCOTKAR \tCOTYAR \tCÛDÎ\n",
        "DABAN \tDADYAR \tDAGER \tDANA \tDANER\n",
        "DARA \tDARAN \tDÊBER \tDENGDAR \tDERAV\n",
        "DERBEST \tDERSIM \tDERWÊS \tDEZA \tDÎDEM\n",
        "DIJLE \tDIJWAR \tDILAWER \tDILBIRÎN \tDILCIWAN\n",
        "DILDAR \tDILÊR \tDILÊR \tDILGER \tDILGES\n",
        "DILJEN \tDILO \tDILODÎN \tDILSAD \tDILSAD\n",
        "DÎMEN \tDIYADÎN \tDIYAKO \tDIYAR \tDIYARÎ\n",
        "EFO \tEGÎT \tELIND \tELWAND \tERDEHAN\n",
        "ERDELAN \tERDEM \tEREZ \tESPAR \tEVÎNDAR\n",
        "EVRAZ \tEYAZ \tFERHAT \tFERMAN \tFERO\n",
        "FILÎT \tFIRYA \tGARE \tGAZÎN \tGELÎ\n",
        "GERDÎN \tGERDÛN \tGHERÎB \tGORAN \tHANA\n",
        "HANÎS \tHAWAR \tHAWRAMA \tHAWRÊ \tHAWRÊ\n",
        "HAYDAR \tHAZO \tHÊJA \tHEJAR \tHEJAR\n",
        "HEKAR \tHÊMEN \tHEMRES \tHERDEM \tHÊRIS\n",
        "HEVAL \tHEVGIN \tHEWAL \tHEWAR \tHEWDEM\n",
        "HEWRÊ \tHEWREMAN \tHEZO \tHILKAR \tHINDIRÎN\n",
        "HISYAR \tHÎWA \tHOYBÛN \tHUGIR \tHUNER\n",
        "HUNERMEND \tJÊHAT \tJÎNDAR \tJÎNO \tJÎR\n",
        "JIWAN \tJÎWAN \tKAJAW \tKAJÎN \tKAMÎRAN\n",
        "KARDOX \tKARDUX \tKARMEND \tKARSAZ \tKARWAN\n",
        "KARZA \tKARZAN \tKAWA \tKAWAR \tKAWE\n",
        "KEJO \tKEKAN \tKEKO \tKENDAL \tKESRA\n",
        "KEVÎR \tKEYA \tKEYO \tKEZÊBAN \tKÎKA\n",
        "KOBAN \tKOÇBER \tKOÇER \tKOSRET \tKOYO\n",
        "KUMAR \tKURDU \tKUVAN \tLAWÎN \tLÊZAN\n",
        "LEZGÎN \tLOLAN \tLORAN \tMAKO \tMAZÎN\n",
        "MÊHVAN \tMEM \tMEM \tMEMU \tMERDAN\n",
        "MERDEM \tMERDO \tMERGEWER \tMERÎWAN \tMERTAL\n",
        "MERWAN \tMÊRXAS \tMETÎN \tMEZDAR \tMILET\n",
        "MÎR \tMÎRHEM \tMÎRKO \tMÎRZA \tMÛNZIR\n",
        "NALÎ \tNALÎN \tNARÎ \tNASO \tNASRAW\n",
        "NAVDA \tNAVDAR \tNAVÎN \tNEBEZ \tNEBEZ\n",
        "NÊÇÎRVAN \tNEDYAR \tNEMRÛT \tNESWAN \tNEWROZ\n",
        "NÎBAR \tNÎHAD \tNIJDAR \tNÎYAZ \tOLAN\n",
        "PALAN \tPALDAR \tPALE \tPALÎN \tPANKÎSAR\n",
        "PARAW \tPARÊZ \tPAWAN \tPAYAN \tPAYEDAR\n",
        "PÊDVÎ \tPEJAN \tPELEWAN \tPERWER \tPOLA\n",
        "POLAN \tRABER \tRAGIR \tRAJAN \tRAJO\n",
        "RAMAN \tRANGAR \tRÊBAZ \tREBEN \tRÊBEND\n",
        "RÊBER \tRÊDAN \tRÊDÎR \tRÊKAN \tRÊKEWT\n",
        "REMAN \tRÊNAS \tRESWAN \tRÊVING \tREWAN\n",
        "REWEZ \tRÊZAN \tRÊZAN \tRINDO \tRISTEM\n",
        "RIZGAN \tRIZGAR \tRODÎ \tROHAT \tROJAN\n",
        "ROJDAR \tROJEN \tROJHAT \tROJKO \tROJWAN\n",
        "ROJYAR \tRONAS \tRONGA \tRONÎ \tROSAN\n",
        "ROSTEM \tRUBAD \tRÛBAR \tRUÎBAR \tRÛSEN\n",
        "SALAR \tSAMAL \tSAMAN \tSANAW \tSAZAN\n",
        "SEFÎN \tSENGER \tSEPAN \tSERAW \tSERBAZ\n",
        "SERBEST \tSERBEST \tSERBILIND \tSERDAR \tSERDAR\n",
        "SERDEST \tSERFIRAZ \tSERGER \tSERGEWAZ \tSERHAT\n",
        "SERHENG \tSERHING \tSERHING \tSERIYAS \tSERKAR\n",
        "SERKAR \tSERKEFT \tSERMEND \tSERTAN \tSERWER\n",
        "SERXWEBUN \tSEYWAN \tSÎDAR \tSILÎVÎ \tSIMIKO\n",
        "SIMKU \tSÎPAN \tSÎRWAN \tSIYABEND \tSÎYAR\n",
        "SORAN \tSORAW \tSPÎNDAR \tSABAL \tSADMAN\n",
        "SAHÎN \tSAXAN \tSÊREFXAN \tSERVAN \tSERWAN\n",
        "SÊRZAT \tSEVDER \tSÎNWAR \tSIRWAN \tSIVAN\n",
        "SURAN \tTAJDÎN \tTALAN \tTEWRAN \tTÎRÊJ\n",
        "TÎRVAN \tTOMAR \tVEHÊL \tVEJEN \tVÎNDAR\n",
        "WARHÊL \tWELAT \tWERZAN \tXEBAT \tXELAT\n",
        "XEMGÎN \tXEMU \tXERDEL \tXERZAN \tXÎZAN\n",
        "XORTO \tXOZAN \tYADGAR \tZAMO \tZANA\n",
        "ZANYAR \tZAR \tZARAV \tZARGO \tZARÎ\n",
        "ZAXO \tZAZA \tZÊDAN \tZÊMAR \tZEND\n",
        "ZENDÎN \tZENDO \tZENGÎ \tZENGO \tZERDEST\n",
        "ZERDO \tZÊREVAN \tZÊWER \tZINAR \tZÎREK\n",
        "ZÎVER \tZORAN \tZORAV \tZORO \n",
        "\"\"\""
      ],
      "execution_count": 1,
      "outputs": []
    },
    {
      "cell_type": "code",
      "metadata": {
        "id": "ijH9dPUgRt8s",
        "colab_type": "code",
        "colab": {}
      },
      "source": [
        "import re\n",
        "import numpy as np\n",
        "import pandas as pd\n",
        "import random\n",
        "from sklearn.model_selection import train_test_split\n",
        "import torchtext\n",
        "import torch\n"
      ],
      "execution_count": 2,
      "outputs": []
    },
    {
      "cell_type": "code",
      "metadata": {
        "id": "cws1fQ0XRqgH",
        "colab_type": "code",
        "colab": {}
      },
      "source": [
        "def cleanText(List):\n",
        "  cleaned = []\n",
        "  for word in List:\n",
        "    word= re.sub('\\W','',word)\n",
        "    \n",
        "    cleaned.append(word)\n",
        "  return cleaned\n",
        "\n",
        "def build(List):\n",
        "  letter_list = set()\n",
        "  for l in List:\n",
        "    for word in l:\n",
        "      for letter in word:\n",
        "        if len(letter) > 0 :\n",
        "          letter_list.add(letter)\n",
        "  return list(letter_list)\n",
        "\n",
        "def l2i(l):\n",
        "  return letter2index[l]\n",
        "\n",
        "def i2l(l):\n",
        "  return index2letter[l]\n",
        "\n",
        "def l2tensor(letter):\n",
        "  tensor = torch.zeros(1,len(letter_list))\n",
        "  tensor[0][l2i(letter)] = 1 \n",
        "  return tensor\n",
        "\n",
        "def line2tensor(line):\n",
        "  line = line.upper()\n",
        "  tensor = torch.zeros(len(line), 1 ,len(letter_list))\n",
        "  for li, letter in enumerate(line):\n",
        "    tensor[li][0][l2i(letter)] = 1\n",
        "  return tensor\n",
        "\n",
        "def preprocessDT(dt,label):\n",
        "  dt_list = []\n",
        "  for name in dt:\n",
        "    if len(name)>0:\n",
        "      #name = l2i(name)\n",
        "      dt_list.append(name)\n",
        "  return dt_list , [label for lab in range(len(dt_list))]\n",
        "def tokenizer(word):\n",
        "  return list(word)"
      ],
      "execution_count": 3,
      "outputs": []
    },
    {
      "cell_type": "markdown",
      "metadata": {
        "id": "Vu-73NMdenGt",
        "colab_type": "text"
      },
      "source": [
        "# preprocessing the data"
      ]
    },
    {
      "cell_type": "code",
      "metadata": {
        "id": "1sJdRjuMZF7w",
        "colab_type": "code",
        "colab": {}
      },
      "source": [
        "cB = cleanText(boys.split())\n",
        "cG = cleanText(girls.split())\n",
        "letter_list = build([cB,cG])\n",
        "letter2index = {l:i for i,l in enumerate(letter_list)}\n",
        "index2letter = {i:l for i,l in enumerate(letter_list)}\n",
        "boys_x, boys_y = preprocessDT(cB,'boy')\n",
        "girls_x,girls_y = preprocessDT(cG,'girl')"
      ],
      "execution_count": 4,
      "outputs": []
    },
    {
      "cell_type": "code",
      "metadata": {
        "id": "GpvIQ41OvDod",
        "colab_type": "code",
        "colab": {}
      },
      "source": [
        "boys_pd = pd.DataFrame({\"name\":boys_x,\n",
        "                        'gender':boys_y})\n",
        "girls_pd = pd.DataFrame({'name':girls_x,\n",
        "                         \"gender\":girls_y})\n",
        "all_pds = pd.concat([boys_pd,girls_pd])"
      ],
      "execution_count": 5,
      "outputs": []
    },
    {
      "cell_type": "code",
      "metadata": {
        "id": "OYbNOJfqwUWc",
        "colab_type": "code",
        "colab": {
          "base_uri": "https://localhost:8080/",
          "height": 199
        },
        "outputId": "d6afde20-e297-437e-c57f-24f51367c8a8"
      },
      "source": [
        "np.random.shuffle(all_pds.values)\n",
        "dataset = all_pds.values\n",
        "print(dataset[:10])"
      ],
      "execution_count": 6,
      "outputs": [
        {
          "output_type": "stream",
          "text": [
            "[['DILAWAZ' 'girl']\n",
            " ['MEM' 'boy']\n",
            " ['ZERYA' 'girl']\n",
            " ['SERA' 'girl']\n",
            " ['BENDEWA' 'girl']\n",
            " ['EVSER' 'girl']\n",
            " ['SILÎVA' 'girl']\n",
            " ['HÊMIN' 'girl']\n",
            " ['BÊKES' 'boy']\n",
            " ['FERMAN' 'boy']]\n"
          ],
          "name": "stdout"
        }
      ]
    },
    {
      "cell_type": "code",
      "metadata": {
        "id": "BahV9mPwVUZq",
        "colab_type": "code",
        "colab": {
          "base_uri": "https://localhost:8080/",
          "height": 110
        },
        "outputId": "aec9d16e-9515-4901-8129-72e5c1826437"
      },
      "source": [
        "print(l2tensor('J'))\n",
        "print(l2tensor('J').size())\n",
        "print(line2tensor('Newroz').size())"
      ],
      "execution_count": 7,
      "outputs": [
        {
          "output_type": "stream",
          "text": [
            "tensor([[0., 0., 0., 0., 0., 0., 0., 0., 0., 0., 0., 0., 0., 0., 0., 0., 0., 0.,\n",
            "         0., 0., 0., 0., 0., 0., 1., 0., 0., 0., 0., 0.]])\n",
            "torch.Size([1, 30])\n",
            "torch.Size([6, 1, 30])\n"
          ],
          "name": "stdout"
        }
      ]
    },
    {
      "cell_type": "code",
      "metadata": {
        "id": "XJA2Lx0JJcsi",
        "colab_type": "code",
        "colab": {}
      },
      "source": [
        "import torch.nn as nn\n",
        "device = torch.device('cuda' if torch.cuda.is_available() else 'cpu') \n",
        "genders = {0:'girl',1:'boy'}\n",
        "gender2index = {'boy':1,'girl':0}"
      ],
      "execution_count": 8,
      "outputs": []
    },
    {
      "cell_type": "code",
      "metadata": {
        "id": "Up8grHJpXIjg",
        "colab_type": "code",
        "colab": {}
      },
      "source": [
        "class RNN(nn.Module):\n",
        "\n",
        "  def __init__(self, input_size, hidden_size, output_size):\n",
        "    super(RNN,self).__init__()\n",
        "    self.hidden_size = hidden_size\n",
        "    self.i2h = nn.Linear(input_size + hidden_size, hidden_size)\n",
        "    self.i2o = nn.Linear(input_size + hidden_size, output_size)\n",
        "    self.softmax  = nn.LogSoftmax(dim=1)\n",
        "\n",
        "  def forward(self, input, hidden):\n",
        "    combined = torch.cat((input, hidden),1)\n",
        "    hidden = self.i2h(combined)\n",
        "    output = self.i2o(combined)\n",
        "    output = self.softmax(output)\n",
        "    return output, hidden\n",
        "  \n",
        "  def initHidden(self):\n",
        "    return torch.zeros(1, self.hidden_size)"
      ],
      "execution_count": 9,
      "outputs": []
    },
    {
      "cell_type": "code",
      "metadata": {
        "id": "yn0XbrFtYtzC",
        "colab_type": "code",
        "colab": {}
      },
      "source": [
        "n_hidden = 128\n",
        "rnn = RNN(len(letter_list), n_hidden, 2)"
      ],
      "execution_count": 10,
      "outputs": []
    },
    {
      "cell_type": "code",
      "metadata": {
        "id": "qbHzMfpgY-ak",
        "colab_type": "code",
        "colab": {
          "base_uri": "https://localhost:8080/",
          "height": 35
        },
        "outputId": "d71aea3d-34c6-4f4f-aa25-ea351e03d011"
      },
      "source": [
        "input = l2tensor('A')\n",
        "hidden = torch.zeros(1,n_hidden)\n",
        "print(input.size(),hidden.size())\n",
        "output, next_hidden = rnn(input, hidden)"
      ],
      "execution_count": 11,
      "outputs": [
        {
          "output_type": "stream",
          "text": [
            "torch.Size([1, 30]) torch.Size([1, 128])\n"
          ],
          "name": "stdout"
        }
      ]
    },
    {
      "cell_type": "code",
      "metadata": {
        "id": "QGxgxeExZjFz",
        "colab_type": "code",
        "colab": {
          "base_uri": "https://localhost:8080/",
          "height": 53
        },
        "outputId": "94332f7c-9f11-4213-c25b-07b4133dadf7"
      },
      "source": [
        "input = line2tensor('hema')\n",
        "hidden = torch.zeros(1,n_hidden)\n",
        "print(input.size(),hidden.size())\n",
        "output, next_hidden = rnn(input[0], hidden)\n",
        "print(output)"
      ],
      "execution_count": 12,
      "outputs": [
        {
          "output_type": "stream",
          "text": [
            "torch.Size([4, 1, 30]) torch.Size([1, 128])\n",
            "tensor([[-0.7168, -0.6700]], grad_fn=<LogSoftmaxBackward>)\n"
          ],
          "name": "stdout"
        }
      ]
    },
    {
      "cell_type": "code",
      "metadata": {
        "id": "rStT4zHTdtKI",
        "colab_type": "code",
        "colab": {}
      },
      "source": [
        "def categoryFromOutput(output):\n",
        "  top_n, top_i = output.topk(1)\n",
        "  category_i = top_i[0].item()\n",
        "  return genders[category_i], category_i"
      ],
      "execution_count": 13,
      "outputs": []
    },
    {
      "cell_type": "code",
      "metadata": {
        "id": "vHYPHRsjd18-",
        "colab_type": "code",
        "colab": {
          "base_uri": "https://localhost:8080/",
          "height": 35
        },
        "outputId": "8f844a6d-6221-4515-b731-df05768d326a"
      },
      "source": [
        "print(categoryFromOutput(output))"
      ],
      "execution_count": 14,
      "outputs": [
        {
          "output_type": "stream",
          "text": [
            "('boy', 1)\n"
          ],
          "name": "stdout"
        }
      ]
    },
    {
      "cell_type": "code",
      "metadata": {
        "id": "nEy-ohHkeQKn",
        "colab_type": "code",
        "colab": {}
      },
      "source": [
        "import random\n",
        "\n",
        "def randChoice(l):\n",
        "  return l[random.randint(0,len(l) -1)]\n",
        "\n",
        "def randTrainExample():\n",
        "  name, gender = randChoice(dataset)\n",
        "  gender_tensor = torch.tensor([gender2index[gender]],dtype=torch.long)\n",
        "  line_tensor = line2tensor(name)\n",
        "  return gender, name, gender_tensor, line_tensor\n",
        "\n",
        "  "
      ],
      "execution_count": 15,
      "outputs": []
    },
    {
      "cell_type": "code",
      "metadata": {
        "id": "pfAFmDvHyKNW",
        "colab_type": "code",
        "colab": {
          "base_uri": "https://localhost:8080/",
          "height": 35
        },
        "outputId": "fe8814c2-1371-4e42-956f-e90deb5cd58e"
      },
      "source": [
        "randChoice(dataset)"
      ],
      "execution_count": 16,
      "outputs": [
        {
          "output_type": "execute_result",
          "data": {
            "text/plain": [
              "array(['ARHAT', 'boy'], dtype=object)"
            ]
          },
          "metadata": {
            "tags": []
          },
          "execution_count": 16
        }
      ]
    },
    {
      "cell_type": "code",
      "metadata": {
        "id": "23TFcsT-5xc4",
        "colab_type": "code",
        "colab": {
          "base_uri": "https://localhost:8080/",
          "height": 199
        },
        "outputId": "1fc7fc7c-d81b-45a2-bdd5-06a4b1042ad3"
      },
      "source": [
        "for i in range(10):\n",
        "    category, line, category_tensor, line_tensor = randTrainExample()\n",
        "    print('category =', category, '/ line =', line)"
      ],
      "execution_count": 17,
      "outputs": [
        {
          "output_type": "stream",
          "text": [
            "category = girl / line = PAKDIL\n",
            "category = girl / line = GUL\n",
            "category = boy / line = AZÎ\n",
            "category = girl / line = ALA\n",
            "category = boy / line = RÊKAN\n",
            "category = girl / line = ZERÎN\n",
            "category = boy / line = BEDLÎS\n",
            "category = boy / line = ASOS\n",
            "category = boy / line = KUVAN\n",
            "category = girl / line = DILXOS\n"
          ],
          "name": "stdout"
        }
      ]
    },
    {
      "cell_type": "code",
      "metadata": {
        "id": "YHLmwbaC55Ya",
        "colab_type": "code",
        "colab": {}
      },
      "source": [
        "criterion = nn.NLLLoss()"
      ],
      "execution_count": 18,
      "outputs": []
    },
    {
      "cell_type": "code",
      "metadata": {
        "id": "1sAM3HSX-ylm",
        "colab_type": "code",
        "colab": {}
      },
      "source": [
        "lr = 0.005\n",
        "\n",
        "def train(category_tensor, line_tensor):\n",
        "  hidden = rnn.initHidden()\n",
        "  rnn.zero_grad()\n",
        "  for i in range(line_tensor.size()[0]):\n",
        "    output,hidden = rnn(line_tensor[i],hidden)\n",
        "  loss = criterion(output,category_tensor)\n",
        "  loss.backward()\n",
        "\n",
        "  for p in rnn.parameters():\n",
        "    p.data.add_(p.grad.data, alpha=-lr)\n",
        "  return output, loss.item()"
      ],
      "execution_count": 19,
      "outputs": []
    },
    {
      "cell_type": "code",
      "metadata": {
        "id": "-w5IhTiZ_ck0",
        "colab_type": "code",
        "colab": {
          "base_uri": "https://localhost:8080/",
          "height": 925
        },
        "outputId": "5d2497fb-4501-41ed-c756-8b50328aae9d"
      },
      "source": [
        "import time\n",
        "import math\n",
        "\n",
        "n_iters = 250000\n",
        "print_every = 5000\n",
        "plot_every = 1000\n",
        "\n",
        "current_loss = 0\n",
        "all_losses = []\n",
        "\n",
        "def timeSince(since):\n",
        "  now = time.time()\n",
        "  s = now-since\n",
        "  m = math.floor(s/60)\n",
        "  s -= m* 60\n",
        "  return \"%dm %ds\" % (m,s)\n",
        "\n",
        "start = time.time()\n",
        "\n",
        "for iter in range(1, n_iters+1):\n",
        "  category, line, category_tensor, line_tensor = randTrainExample()\n",
        "  output, loss = train(category_tensor,line_tensor)\n",
        "  current_loss += loss\n",
        "\n",
        "  if iter % print_every == 0:\n",
        "    guess, guess_i = categoryFromOutput(output)\n",
        "    correct = '✓' if guess == category else '✗ (%s)' % category\n",
        "    print(\"%d %d%% (%s) %.4f %s / %s %s\"%(iter , iter/n_iters * 100,timeSince(start),loss,line,guess,correct))\n",
        "  if iter % plot_every == 0:\n",
        "    all_losses.append(current_loss/plot_every)\n",
        "    current_loss = 0\n",
        "\n",
        "  "
      ],
      "execution_count": 20,
      "outputs": [
        {
          "output_type": "stream",
          "text": [
            "5000 2% (0m 5s) 0.6335 ALAN / boy ✓\n",
            "10000 4% (0m 11s) 0.2006 DERBEST / boy ✓\n",
            "15000 6% (0m 16s) 0.4173 ALA / girl ✓\n",
            "20000 8% (0m 22s) 0.1990 REJNÊ / girl ✓\n",
            "25000 10% (0m 27s) 0.1226 SÎTAV / girl ✓\n",
            "30000 12% (0m 33s) 0.1048 KARDUX / boy ✓\n",
            "35000 14% (0m 38s) 0.0885 KEJO / boy ✓\n",
            "40000 16% (0m 44s) 0.5157 BADIL / boy ✓\n",
            "45000 18% (0m 49s) 0.0393 GULZAR / girl ✓\n",
            "50000 20% (0m 55s) 0.1870 SEHLA / girl ✓\n",
            "55000 22% (1m 1s) 0.0394 ARHAT / boy ✓\n",
            "60000 24% (1m 6s) 0.8732 DÎDEM / girl ✗ (boy)\n",
            "65000 26% (1m 11s) 0.4392 BESAM / boy ✓\n",
            "70000 28% (1m 17s) 0.3569 PEJNA / girl ✓\n",
            "75000 30% (1m 22s) 0.2489 ZARÎ / boy ✓\n",
            "80000 32% (1m 28s) 3.3195 HEDAR / boy ✗ (girl)\n",
            "85000 34% (1m 34s) 0.3123 DARA / boy ✓\n",
            "90000 36% (1m 39s) 0.4333 BIJEW / girl ✓\n",
            "95000 38% (1m 45s) 0.1135 AWIR / boy ✓\n",
            "100000 40% (1m 50s) 0.4618 BAZ / boy ✓\n",
            "105000 42% (1m 56s) 0.5501 ARÎN / girl ✓\n",
            "110000 44% (2m 2s) 0.0091 BIRÎNDAR / boy ✓\n",
            "115000 46% (2m 7s) 0.6587 HÊVÎ / girl ✓\n",
            "120000 48% (2m 13s) 0.4041 BÊNAV / boy ✓\n",
            "125000 50% (2m 18s) 0.0498 RÊKAN / boy ✓\n",
            "130000 52% (2m 24s) 0.1445 AMANC / boy ✓\n",
            "135000 54% (2m 29s) 0.1886 ÇEKDAR / boy ✓\n",
            "140000 56% (2m 35s) 0.2517 BAZÊ / girl ✓\n",
            "145000 57% (2m 40s) 0.6782 SERTAN / boy ✓\n",
            "150000 60% (2m 46s) 0.0627 BÊDENG / boy ✓\n",
            "155000 62% (2m 51s) 0.0879 NESRÎN / girl ✓\n",
            "160000 64% (2m 57s) 0.0492 MERÎVAN / girl ✓\n",
            "165000 66% (3m 3s) 0.0105 GULBAHAR / girl ✓\n",
            "170000 68% (3m 8s) 0.0659 SEVÎN / girl ✓\n",
            "175000 70% (3m 14s) 0.4042 FILÎT / boy ✓\n",
            "180000 72% (3m 19s) 0.2915 LEMAN / girl ✓\n",
            "185000 74% (3m 25s) 0.0993 DAGER / boy ✓\n",
            "190000 76% (3m 30s) 0.2131 AVAN / boy ✓\n",
            "195000 78% (3m 35s) 0.1908 SERGEWAZ / boy ✓\n",
            "200000 80% (3m 41s) 0.0259 BERWAR / boy ✓\n",
            "205000 82% (3m 47s) 0.0081 NÎSTÎMAN / girl ✓\n",
            "210000 84% (3m 52s) 0.2517 ZERÎN / girl ✓\n",
            "215000 86% (3m 58s) 1.2504 METÎN / girl ✗ (boy)\n",
            "220000 88% (4m 3s) 0.1098 MIRCAN / girl ✓\n",
            "225000 90% (4m 9s) 0.9451 BIRWA / boy ✗ (girl)\n",
            "230000 92% (4m 14s) 0.0879 RABER / boy ✓\n",
            "235000 94% (4m 20s) 0.1176 BALÎ / boy ✓\n",
            "240000 96% (4m 25s) 1.2913 KOÇER / boy ✗ (girl)\n",
            "245000 98% (4m 31s) 0.0717 SAGUL / girl ✓\n",
            "250000 100% (4m 37s) 0.9578 BÊJÎN / boy ✗ (girl)\n"
          ],
          "name": "stdout"
        }
      ]
    },
    {
      "cell_type": "code",
      "metadata": {
        "id": "amM6rvtXBPk7",
        "colab_type": "code",
        "colab": {
          "base_uri": "https://localhost:8080/",
          "height": 283
        },
        "outputId": "7567ff1d-28d2-42aa-a136-67d232e52254"
      },
      "source": [
        "import matplotlib.pyplot as plt\n",
        "import matplotlib.ticker as ticker\n",
        "\n",
        "plt.figure()\n",
        "plt.plot(all_losses)"
      ],
      "execution_count": 21,
      "outputs": [
        {
          "output_type": "execute_result",
          "data": {
            "text/plain": [
              "[<matplotlib.lines.Line2D at 0x7fc62cdb7c50>]"
            ]
          },
          "metadata": {
            "tags": []
          },
          "execution_count": 21
        },
        {
          "output_type": "display_data",
          "data": {
            "image/png": "[encoded data removed]",
            "text/plain": [
              "<Figure size 432x288 with 1 Axes>"
            ]
          },
          "metadata": {
            "tags": [],
            "needs_background": "light"
          }
        }
      ]
    },
    {
      "cell_type": "code",
      "metadata": {
        "id": "wbE8LgEnD4as",
        "colab_type": "code",
        "colab": {}
      },
      "source": [
        "confusion = torch.zeros(len(genders),len(genders))\n",
        "n_confusion = 10000\n",
        "\n",
        "def evaluate(line_tensor):\n",
        "  hidden = rnn.initHidden()\n",
        "  for i in range(line_tensor.size()[0]):\n",
        "    output, hidden = rnn(line_tensor[i],hidden)\n",
        "  return output\n",
        "\n",
        "\n",
        "for i in range(n_confusions):\n",
        "  category, line , category_tensor, line_tensor = randTrainExample()\n",
        "  output = evaluate(line_tensor)\n",
        "  guess, guess_i = categoryFromOutput(output)\n",
        "  category_i = gender2index[category]\n",
        "  confusion[category_i][guess_i] +=1\n",
        "\n",
        "for i in range(len(genders)):\n",
        "  confusion[i] = confusion[i] / confusion[i].sum()\n"
      ],
      "execution_count": 23,
      "outputs": []
    },
    {
      "cell_type": "code",
      "metadata": {
        "id": "EVQrovYnIJnE",
        "colab_type": "code",
        "colab": {
          "base_uri": "https://localhost:8080/",
          "height": 277
        },
        "outputId": "daa3efd6-bca9-40f8-8425-b6b5d34195a9"
      },
      "source": [
        "fig = plt.figure()\n",
        "ax = fig.add_subplot(111)\n",
        "cax = ax.matshow(confusion.numpy())\n",
        "fig.colorbar(cax)\n",
        "\n",
        "ax.set_xticklabels([''] + ['boy','girl'], rotation = 90)\n",
        "ax.set_yticklabels(['']+['boy','girl'])\n",
        "\n",
        "ax.xaxis.set_major_locator(ticker.MultipleLocator(1))\n",
        "ax.yaxis.set_major_locator(ticker.MultipleLocator(1))\n",
        "\n",
        "plt.show()"
      ],
      "execution_count": 24,
      "outputs": [
        {
          "output_type": "display_data",
          "data": {
            "image/png": "[encoded data removed]",
            "text/plain": [
              "<Figure size 432x288 with 2 Axes>"
            ]
          },
          "metadata": {
            "tags": [],
            "needs_background": "light"
          }
        }
      ]
    },
    {
      "cell_type": "code",
      "metadata": {
        "id": "ycLJmNTAJAKI",
        "colab_type": "code",
        "colab": {}
      },
      "source": [
        "def predict(input_line, n_predictions=len(genders)):\n",
        "  print('\\n> %s' % input_line.upper())\n",
        "  with torch.no_grad():\n",
        "    output = evaluate(line2tensor(input_line))\n",
        "\n",
        "    topv, topi = output.topk(n_predictions, 1 , True)\n",
        "    predictions= []\n",
        "\n",
        "    for i in range(n_predictions):\n",
        "      value = topv[0][i].item()\n",
        "      category_index = topi[0][i].item()\n",
        "      print(\"(%.2f) %s\"%(value, genders[category_index]))\n",
        "      predictions.append([value, genders[category_index]])\n"
      ],
      "execution_count": 34,
      "outputs": []
    },
    {
      "cell_type": "code",
      "metadata": {
        "id": "q2QMQqHzKciU",
        "colab_type": "code",
        "colab": {
          "base_uri": "https://localhost:8080/",
          "height": 235
        },
        "outputId": "9b483fe6-50e4-44dd-841d-89f209116d87"
      },
      "source": [
        "predict('baran')\n",
        "predict('fatima')\n",
        "predict('aroz')"
      ],
      "execution_count": 40,
      "outputs": [
        {
          "output_type": "stream",
          "text": [
            "\n",
            "> BARAN\n",
            "(-0.12) boy\n",
            "(-2.21) girl\n",
            "\n",
            "> FATIMA\n",
            "(-0.12) girl\n",
            "(-2.21) boy\n",
            "\n",
            "> AROZ\n",
            "(-0.57) boy\n",
            "(-0.83) girl\n"
          ],
          "name": "stdout"
        }
      ]
    },
    {
      "cell_type": "code",
      "metadata": {
        "id": "4cAcsAuxKeJl",
        "colab_type": "code",
        "colab": {}
      },
      "source": [
        ""
      ],
      "execution_count": null,
      "outputs": []
    }
  ]
}